{
 "cells": [
  {
   "cell_type": "markdown",
   "metadata": {},
   "source": [
    "### Drill\n",
    "\n",
    "Implement a binary tree, which is filled with 15 pieces of random data. Your job is to then write a program to traverse the tree using a breadth first traversal"
   ]
  },
  {
   "cell_type": "code",
   "execution_count": 1,
   "metadata": {},
   "outputs": [],
   "source": [
    "class Node:\n",
    "    def __init__(self, val):\n",
    "        self.left = None\n",
    "        self.right = None\n",
    "        self.val = val"
   ]
  },
  {
   "cell_type": "code",
   "execution_count": 2,
   "metadata": {},
   "outputs": [],
   "source": [
    "# Establish root and children\n",
    "root = Node('A')\n",
    "root.left = Node('B')\n",
    "root.right = Node('C')\n",
    "\n",
    "# Add children for 2 and 3\n",
    "root.left.left = Node('D')\n",
    "root.left.right = Node('E')\n",
    "root.right.left = Node('F')\n",
    "root.right.right = Node('G')\n",
    "\n",
    "# Add leaves for 4, 5, 6, and 7\n",
    "root.left.left.left = Node('H')\n",
    "root.left.left.right = Node('I')\n",
    "root.left.right.left = Node('J')\n",
    "root.left.right.right = Node('K')\n",
    "root.right.left.left = Node('L')\n",
    "root.right.left.right = Node('M')\n",
    "root.right.right.left = Node('N')\n",
    "root.right.right.right = Node('O')"
   ]
  },
  {
   "cell_type": "code",
   "execution_count": 3,
   "metadata": {},
   "outputs": [],
   "source": [
    "#Level order\n",
    "def level_order (root):\n",
    "    h = height(root)\n",
    "    for i in range(1, h+1):\n",
    "        given_level(root, i)\n",
    "\n",
    "#Each level of the tree\n",
    "def given_level (root, level):\n",
    "    # Skip empty level\n",
    "    if root is None:\n",
    "        return\n",
    "    # Print root if only level\n",
    "    if level == 1:\n",
    "        print(root.val)\n",
    "    # Print left and right for each level\n",
    "    elif level > 1:\n",
    "        given_level(root.left, level-1)\n",
    "        given_level(root.right, level-1)\n",
    "\n",
    "#Height of the tree\n",
    "def height(node):\n",
    "    if node is None:\n",
    "        return 0\n",
    "    else:\n",
    "        lheight = height(node.left)\n",
    "        rheight = height(node.right)\n",
    "        # Use the larger height\n",
    "        if lheight > rheight:\n",
    "            return lheight+1\n",
    "        else:\n",
    "            return rheight+1"
   ]
  },
  {
   "cell_type": "code",
   "execution_count": 4,
   "metadata": {},
   "outputs": [
    {
     "name": "stdout",
     "output_type": "stream",
     "text": [
      "A\n",
      "B\n",
      "C\n",
      "D\n",
      "E\n",
      "F\n",
      "G\n",
      "H\n",
      "I\n",
      "J\n",
      "K\n",
      "L\n",
      "M\n",
      "N\n",
      "O\n"
     ]
    }
   ],
   "source": [
    "level_order(root)"
   ]
  },
  {
   "cell_type": "code",
   "execution_count": null,
   "metadata": {},
   "outputs": [],
   "source": []
  }
 ],
 "metadata": {
  "kernelspec": {
   "display_name": "Python 3",
   "language": "python",
   "name": "python3"
  },
  "language_info": {
   "codemirror_mode": {
    "name": "ipython",
    "version": 3
   },
   "file_extension": ".py",
   "mimetype": "text/x-python",
   "name": "python",
   "nbconvert_exporter": "python",
   "pygments_lexer": "ipython3",
   "version": "3.6.5"
  }
 },
 "nbformat": 4,
 "nbformat_minor": 2
}
